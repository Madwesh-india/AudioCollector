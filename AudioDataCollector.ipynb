{
 "cells": [
  {
   "cell_type": "code",
   "execution_count": 1,
   "id": "bf870d71",
   "metadata": {},
   "outputs": [
    {
     "data": {
      "application/vnd.jupyter.widget-view+json": {
       "model_id": "7790b3371539495f89af224bad5ec4fd",
       "version_major": 2,
       "version_minor": 0
      },
      "text/plain": [
       "Text(value='')"
      ]
     },
     "metadata": {},
     "output_type": "display_data"
    },
    {
     "data": {
      "application/vnd.jupyter.widget-view+json": {
       "model_id": "b7699ed682eb469b9bd00256bb463e01",
       "version_major": 2,
       "version_minor": 0
      },
      "text/plain": [
       "Output()"
      ]
     },
     "metadata": {},
     "output_type": "display_data"
    },
    {
     "data": {
      "application/vnd.jupyter.widget-view+json": {
       "model_id": "3394b5bf21c9451292bb26d4137eb8ac",
       "version_major": 2,
       "version_minor": 0
      },
      "text/plain": [
       "HBox(children=(Button(description='Start Recording ENGLISH', style=ButtonStyle()), Button(description='Stop Re…"
      ]
     },
     "metadata": {},
     "output_type": "display_data"
    },
    {
     "data": {
      "application/vnd.jupyter.widget-view+json": {
       "model_id": "b7699ed682eb469b9bd00256bb463e01",
       "version_major": 2,
       "version_minor": 0
      },
      "text/plain": [
       "Output()"
      ]
     },
     "metadata": {},
     "output_type": "display_data"
    },
    {
     "data": {
      "application/vnd.jupyter.widget-view+json": {
       "model_id": "6726f655e98e44229ebe504b71e250d6",
       "version_major": 2,
       "version_minor": 0
      },
      "text/plain": [
       "HBox(children=(Button(description='Start Recording TULU', style=ButtonStyle()), Button(description='Stop Recor…"
      ]
     },
     "metadata": {},
     "output_type": "display_data"
    },
    {
     "data": {
      "application/vnd.jupyter.widget-view+json": {
       "model_id": "b7699ed682eb469b9bd00256bb463e01",
       "version_major": 2,
       "version_minor": 0
      },
      "text/plain": [
       "Output()"
      ]
     },
     "metadata": {},
     "output_type": "display_data"
    },
    {
     "data": {
      "application/vnd.jupyter.widget-view+json": {
       "model_id": "33170d0bd7ba4943ad8e9c53888dd9cf",
       "version_major": 2,
       "version_minor": 0
      },
      "text/plain": [
       "HBox(children=(Button(description='NEXT', style=ButtonStyle()), Button(description='Cancel', style=ButtonStyle…"
      ]
     },
     "metadata": {},
     "output_type": "display_data"
    },
    {
     "data": {
      "application/vnd.jupyter.widget-view+json": {
       "model_id": "b7699ed682eb469b9bd00256bb463e01",
       "version_major": 2,
       "version_minor": 0
      },
      "text/plain": [
       "Output()"
      ]
     },
     "metadata": {},
     "output_type": "display_data"
    }
   ],
   "source": [
    "import pyaudio\n",
    "import wave\n",
    "import threading\n",
    "import ipywidgets as widgets\n",
    "import random\n",
    "import os\n",
    "import time\n",
    "\n",
    "start_button = dict()\n",
    "stop_button = dict()\n",
    "\n",
    "# Set the parameters for the recording\n",
    "CHUNK = 1024 # Number of samples per frame\n",
    "FORMAT = pyaudio.paInt16 # Sample format\n",
    "CHANNELS = 1 # Mono recording\n",
    "RATE = 44100 # Sample rate (Hz)\n",
    "\n",
    "# Initialize PyAudio\n",
    "audio = pyaudio.PyAudio()\n",
    "\n",
    "# Create a flag to signal when recording should stop\n",
    "stop_recording = False\n",
    "languages = (\"ENGLISH\", \"TULU\") \n",
    "\n",
    "randNum = random.randint(0, 99999999)\n",
    "\n",
    "# Define a function to record audio\n",
    "def record_audio(randNum, language):\n",
    "    global stop_recording\n",
    "    # Open a new stream to record audio\n",
    "    stream = audio.open(format=FORMAT, channels=CHANNELS,\n",
    "                        rate=RATE, input=True,\n",
    "                        frames_per_buffer=CHUNK)\n",
    "\n",
    "    # Create a list to store the recorded frames\n",
    "    frames = []\n",
    "\n",
    "    # Record audio until the stop_recording flag is set\n",
    "    while not stop_recording:\n",
    "        # Read a frame of audio data from the stream\n",
    "        data = stream.read(CHUNK)\n",
    "        # Add the frame to the list of recorded frames\n",
    "        frames.append(data)\n",
    "\n",
    "    # Stop and close the stream when recording is finished\n",
    "    stream.stop_stream()\n",
    "    stream.close()\n",
    "\n",
    "    # Terminate PyAudio\n",
    "#     audio.terminate()\n",
    "\n",
    "    # Save the recorded audio as a WAV file\n",
    "    if (not os.path.exists(language)):\n",
    "        os.mkdir(language)\n",
    "    with wave.open(f\"{language}/{randNum}.wav\", \"wb\") as wav_file:\n",
    "        wav_file.setnchannels(CHANNELS)\n",
    "        wav_file.setsampwidth(audio.get_sample_size(FORMAT))\n",
    "        wav_file.setframerate(RATE)\n",
    "        wav_file.writeframes(b\"\".join(frames))\n",
    "        \n",
    "# Define a function to start the recording\n",
    "def start_recording(button, randNum):\n",
    "    global stop_recording\n",
    "    # Disable the start button\n",
    "    language = \"ENGLISH\" if \"ENGLISH\" in button.description else \"TULU\"\n",
    "    start_button[language].disabled = True\n",
    "    # Enable the stop button\n",
    "    stop_button[language].disabled = False\n",
    "    # Clear the output area\n",
    "    output_area.clear_output()\n",
    "    # Reset the stop_recording flag\n",
    "    stop_recording = False\n",
    "    # Start a new thread to record audio\n",
    "    threading.Thread(target=record_audio, args=(randNum, language)).start()\n",
    "\n",
    "# Define a function to stop the recording\n",
    "def stop_rec(button):\n",
    "    global stop_recording\n",
    "    language = \"ENGLISH\" if \"ENGLISH\" in button.description else \"TULU\"\n",
    "    # Set the stop_recording flag\n",
    "    stop_recording = True\n",
    "    # Disable the stop button\n",
    "    stop_button[language].disabled = True\n",
    "    # Enable the start button\n",
    "    start_button[language].disabled = False\n",
    "    \n",
    "    \n",
    "output_area = widgets.Output()\n",
    "\n",
    "input_text = widgets.Text()\n",
    "display(input_text, output_area)\n",
    "\n",
    "for language in languages:\n",
    "    start_button[language] = widgets.Button(description=f\"Start Recording {language}\")\n",
    "    start_button[language].on_click(lambda b: start_recording(b, randNum))\n",
    "    \n",
    "    stop_button[language] = widgets.Button(description=f\"Stop Recording {language}\", disabled=True)\n",
    "    stop_button[language].on_click(lambda b: stop_rec(b))\n",
    "\n",
    "    # Create an output area to display messages\n",
    "\n",
    "    # Display the buttons and output area\n",
    "    display(widgets.HBox([start_button[language], stop_button[language]]), output_area)\n",
    "\n",
    "def Next_funtion(button):\n",
    "    if input_text.value != '' and os.path.exists(f\"ENGLISH/{randNum}.wav\") and os.path.exists(f\"TULU/{randNum}.wav\"):\n",
    "        with open(\"data.csv\", \"a+\") as f:\n",
    "              f.write(f\"{randNum},{input_text.value}\")\n",
    "        button.button_style = \"success\"\n",
    "        time.sleep(0.5)\n",
    "        button.button_style = \"\"\n",
    "    else:\n",
    "        button.button_style = \"danger\"\n",
    "        time.sleep(0.5)\n",
    "        button.button_style = \"\"\n",
    "\n",
    "def Cancel_funtion(button):\n",
    "    if os.path.exists(f\"ENGLISH/{randNum}.wav\"):\n",
    "        os.remove(f\"ENGLISH/{randNum}.wav\")\n",
    "        \n",
    "    if os.path.exists(f\"TULU/{randNum}.wav\"):\n",
    "        os.remove(f\"TULU/{randNum}.wav\")\n",
    "        \n",
    "    button.button_style = \"danger\"\n",
    "    time.sleep(0.5)\n",
    "    button.button_style = \"\"\n",
    "    \n",
    "        \n",
    "NEXT = widgets.Button(description=\"NEXT\")\n",
    "NEXT.on_click(Next_funtion)\n",
    "Cancel = widgets.Button(description=\"Cancel\")\n",
    "Cancel.on_click(Cancel_funtion)\n",
    "display(widgets.HBox([NEXT, Cancel]), output_area)"
   ]
  },
  {
   "cell_type": "code",
   "execution_count": null,
   "id": "0d307a42",
   "metadata": {},
   "outputs": [],
   "source": []
  }
 ],
 "metadata": {
  "kernelspec": {
   "display_name": "Python 3",
   "language": "python",
   "name": "python3"
  },
  "language_info": {
   "codemirror_mode": {
    "name": "ipython",
    "version": 3
   },
   "file_extension": ".py",
   "mimetype": "text/x-python",
   "name": "python",
   "nbconvert_exporter": "python",
   "pygments_lexer": "ipython3",
   "version": "3.8.5"
  }
 },
 "nbformat": 4,
 "nbformat_minor": 5
}
